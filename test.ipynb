{
 "cells": [
  {
   "cell_type": "code",
   "execution_count": null,
   "metadata": {},
   "outputs": [],
   "source": [
    "import os\n",
    "import torch\n",
    "import numpy as np\n",
    "from tqdm import tqdm\n",
    "from PIL import Image\n",
    "import torch.nn as nn\n",
    "import torch.optim as optim\n",
    "from torch.utils.data import DataLoader, TensorDataset\n",
    "from torchvision import transforms\n",
    "\n",
    "\n",
    "train_dict = {}\n",
    "\n",
    "if torch.cuda.is_available():\n",
    "    device = torch.device(\"cuda:0\")\n",
    "    print('Using GPU')\n",
    "else:\n",
    "    device = torch.device(\"cpu\")\n",
    "    print(\"Using CPU\")\n",
    "\n",
    "class Net(nn.Module):\n",
    "    def __init__(self):\n",
    "        super().__init__()\n",
    "        self.fc1 = nn.Linear(28*28, 32)\n",
    "        self.fc2 = nn.Linear(32, 32)\n",
    "        self.fc3 = nn.Linear(32, 10)\n",
    "\n",
    "\n",
    "    def forward(self, x):\n",
    "        x = torch.flatten(x, 1)\n",
    "        x = torch.relu(self.fc1(x))\n",
    "        x = torch.relu(self.fc2(x))\n",
    "        x = self.fc3(x)\n",
    "        return x\n",
    "\n",
    "net = Net().to(device)"
   ]
  },
  {
   "cell_type": "code",
   "execution_count": null,
   "metadata": {},
   "outputs": [],
   "source": [
    "transform = transforms.Compose([transforms.Resize((28, 28)), transforms.ToTensor()])"
   ]
  },
  {
   "cell_type": "code",
   "execution_count": null,
   "metadata": {},
   "outputs": [],
   "source": [
    "def load_data(data_type):\n",
    "    X, y = [], []\n",
    "    dataset_path = \"fashion_mnist_images/\" + data_type\n",
    "    classes = os.listdir(dataset_path)\n",
    "    for class_idx, class_name in enumerate(classes):\n",
    "        class_path = os.path.join(dataset_path, class_name)\n",
    "        if os.path.isdir(class_path):\n",
    "            for img in os.listdir(class_path):\n",
    "                img_path = os.path.join(class_path, img)\n",
    "                image = Image.open(img_path).convert('L')\n",
    "                X.append(transform(image))\n",
    "                y.append(int(class_name))\n",
    "    return TensorDataset(torch.stack(X), torch.tensor(y))"
   ]
  },
  {
   "cell_type": "code",
   "execution_count": null,
   "metadata": {},
   "outputs": [],
   "source": [
    "train_dataset = load_data(data_type='train')\n",
    "test_dataset = load_data(data_type='test')"
   ]
  },
  {
   "cell_type": "code",
   "execution_count": null,
   "metadata": {},
   "outputs": [],
   "source": [
    "train_loader = DataLoader(train_dataset, batch_size=32, shuffle=True)\n",
    "test_loader = DataLoader(test_dataset, batch_size=32, shuffle=True)"
   ]
  },
  {
   "cell_type": "code",
   "execution_count": null,
   "metadata": {},
   "outputs": [],
   "source": [
    "EPOCHS = 2\n",
    "BATCH_SIZE = 32\n",
    "loss_function = nn.CrossEntropyLoss()\n",
    "optimizer = optim.Adam(net.parameters(), lr=0.001)\n",
    "\n",
    "def train():\n",
    "    for epoch in range(EPOCHS):\n",
    "        train_dict[epoch] = {}\n",
    "        net.train()\n",
    "        for step, (images, labels) in enumerate(tqdm(train_loader)):\n",
    "            train_dict[epoch][step] = {}\n",
    "            X = images.to(device)\n",
    "            y = labels.to(device)\n",
    "\n",
    "            optimizer.zero_grad()\n",
    "            outputs = net(X)\n",
    "            loss = loss_function(outputs, y) \n",
    "            loss.backward()\n",
    "            optimizer.step()\n",
    "\n",
    "            for n, layer in enumerate(net.modules()):  \n",
    "                if isinstance(layer, nn.Linear):\n",
    "                    train_dict[epoch][step] = {}\n",
    "                    train_dict[epoch][step]['weights'] = layer.weight.detach().cpu().clone()\n",
    "                    train_dict[epoch][step]['biases'] = layer.bias.detach().cpu().clone()\n",
    "\n",
    "        print(f'Epoch [{epoch+1}/{EPOCHS}], Loss: {loss.item():.4f}')"
   ]
  },
  {
   "cell_type": "code",
   "execution_count": null,
   "metadata": {},
   "outputs": [],
   "source": [
    "train()"
   ]
  },
  {
   "cell_type": "code",
   "execution_count": null,
   "metadata": {},
   "outputs": [],
   "source": [
    "def test():\n",
    "    net.eval()\n",
    "    correct = 0\n",
    "    total = 0\n",
    "\n",
    "    with torch.no_grad():  \n",
    "        for images, labels in tqdm(test_loader, desc=\"Testing\"):\n",
    "            images, labels = images.to(device), labels.to(device)\n",
    "\n",
    "            outputs = net(images)\n",
    "            _, predicted = torch.max(outputs, 1)\n",
    "\n",
    "            total += labels.size(0)\n",
    "            correct += (predicted == labels).sum().item()\n",
    "\n",
    "    accuracy = 100 * correct / total\n",
    "    print(f'Accuracy of the network on the test images: {accuracy}%')\n",
    "\n",
    "test()"
   ]
  },
  {
   "cell_type": "code",
   "execution_count": null,
   "metadata": {},
   "outputs": [],
   "source": [
    "train_dict[0][1]['biases'].shape"
   ]
  },
  {
   "cell_type": "code",
   "execution_count": null,
   "metadata": {},
   "outputs": [],
   "source": [
    "import pickle\n",
    "with open(\"train_dict.pkl\", \"wb\") as f:\n",
    "    pickle.dump(train_dict, f)"
   ]
  },
  {
   "cell_type": "code",
   "execution_count": 325,
   "metadata": {},
   "outputs": [
    {
     "name": "stdout",
     "output_type": "stream",
     "text": [
      "tensor(2)\n",
      "PREDICTION: 2\n"
     ]
    },
    {
     "data": {
      "image/png": "[encoded data removed]",
      "text/plain": [
       "<Figure size 640x480 with 1 Axes>"
      ]
     },
     "metadata": {},
     "output_type": "display_data"
    }
   ],
   "source": [
    "import matplotlib.pyplot as plt\n",
    "\n",
    "for (images, label) in (test_loader):\n",
    "    print(label[0])\n",
    "    img = images[0]\n",
    "    images = images.to(device)\n",
    "    preds = net(images)\n",
    "    print(f\"PREDICTION: { torch.argmax(preds[0]) }\")\n",
    "    plt.imshow(img.reshape(28, 28))\n",
    "    break"
   ]
  },
  {
   "cell_type": "code",
   "execution_count": 317,
   "metadata": {},
   "outputs": [],
   "source": [
    "# for n, layer in enumerate(net.modules()):\n",
    "#     if True:\n",
    "#         print(f\"=============START==={n}============\")\n",
    "#         print(f\"Layer {n}: {layer}\")\n",
    "\n",
    "\n",
    "#         # print(\"=============================\")\n",
    "#         # if hasattr(layer, 'parameters'):\n",
    "#             for param_name, param in layer.named_parameters():\n",
    "#                 print(f\"    Parameter Name: {param_name}, Shape: {param.shape}\")\n",
    "\n",
    "\n",
    "\n",
    "#         print(\"=============================\")\n",
    "#         if hasattr(layer, 'children'):\n",
    "#             for child_n, child_layer in enumerate(layer.children()):\n",
    "#                 print(f\"  Child Layer {child_n}: {child_layer}\")\n",
    "\n",
    "\n",
    "\n",
    "#         #print(\"=============================\")\n",
    "#         # Example of accessing a specific attribute (if it exists)\n",
    "#         if hasattr(layer, 'some_attribute'):\n",
    "#             print(f\"  some_attribute: {getattr(layer, 'some_attribute')}\")\n",
    "\n",
    "\n",
    "\n",
    "#         print(\"=============================\")\n",
    "#         for param_name, param in layer.named_parameters():\n",
    "#             print(param.shape)"
   ]
  },
  {
   "cell_type": "code",
   "execution_count": 333,
   "metadata": {},
   "outputs": [
    {
     "name": "stdout",
     "output_type": "stream",
     "text": [
      "torch.Size([32, 784]) torch.Size([32])\n",
      "torch.Size([32, 32]) torch.Size([32])\n",
      "torch.Size([10, 32]) torch.Size([10])\n"
     ]
    }
   ],
   "source": [
    "for params in net.parameters():\n",
    "    if len(params.shape) == 2:\n",
    "        print(params.shape, params.sum(axis=1).shape)"
   ]
  },
  {
   "cell_type": "code",
   "execution_count": 388,
   "metadata": {},
   "outputs": [
    {
     "data": {
      "image/png": "[encoded data removed]",
      "text/plain": [
       "<Figure size 1400x600 with 5 Axes>"
      ]
     },
     "metadata": {},
     "output_type": "display_data"
    }
   ],
   "source": [
    "from matplotlib import style\n",
    "\n",
    "style.use(\"dark_background\")\n",
    "\n",
    "def visualize_layers(sample_num, fig):\n",
    "    for (images, label) in (test_loader):\n",
    "        output_truth = label[sample_num]\n",
    "        input_data = images[sample_num]\n",
    "\n",
    "        images = images.to(device)\n",
    "        outputs = net(images)\n",
    "\n",
    "        prediction = torch.argmax(outputs[sample_num])\n",
    "\n",
    "        if prediction == output_truth:\n",
    "            title_text = f\"Correct Prediction { prediction+1 }, Truth { output_truth+1 }\"\n",
    "            fig.suptitle(title_text, fontsize=20, color='g')\n",
    "        else: \n",
    "            title_text = f\"Wrong Prediction { prediction+1 }, Truth { output_truth+1 }\"\n",
    "            fig.suptitle(title_text, fontsize=20, color='r')\n",
    "\n",
    "\n",
    "        ax0 = plt.subplot2grid((1, 7), (0, 0), rowspan=1, colspan=1)\n",
    "        ax1 = plt.subplot2grid((1, 7), (0, 1), rowspan=1, colspan=1)\n",
    "        ax2 = plt.subplot2grid((1, 7), (0, 2), rowspan=1, colspan=1)\n",
    "        ax3 = plt.subplot2grid((1, 7), (0, 3), rowspan=1, colspan=1)\n",
    "        ax4 = plt.subplot2grid((1, 7), (0, 4), rowspan=1, colspan=1)\n",
    "\n",
    "        layers = []\n",
    "\n",
    "        for params in net.parameters():\n",
    "            if len(params.shape) == 2:\n",
    "                layers.append([params.sum(axis=1).detach().cpu().numpy()])\n",
    "        \n",
    "        layers.append([outputs[sample_num].detach().cpu().numpy()])\n",
    "\n",
    "        layer_1 = np.rot90(layers[0], k=3, axes=(0, 1))\n",
    "        layer_2 = np.rot90(layers[1], k=3, axes=(0, 1))\n",
    "        layer_3 = np.rot90(layers[2], k=3, axes=(0, 1))\n",
    "        layer_4 = np.rot90(layers[3], k=3, axes=(0, 1))\n",
    "\n",
    "\n",
    "        ax0.imshow(input_data.reshape(28, 28), cmap='gray')\n",
    "\n",
    "        ax1.imshow(layer_1, cmap=\"RdYlGn\")\n",
    "        ax2.imshow(layer_2, cmap=\"RdYlGn\")\n",
    "        ax3.imshow(layer_3, cmap=\"RdYlGn\")\n",
    "        ax4.imshow(layer_4, cmap=\"RdYlGn\")\n",
    "\n",
    "        ax0.axis(\"off\")\n",
    "        \n",
    "        break\n",
    "\n",
    "fig = plt.figure(figsize=(14, 6))\n",
    "visualize_layers(0, fig)"
   ]
  },
  {
   "cell_type": "code",
   "execution_count": null,
   "metadata": {},
   "outputs": [],
   "source": []
  }
 ],
 "metadata": {
  "kernelspec": {
   "display_name": "visual",
   "language": "python",
   "name": "python3"
  },
  "language_info": {
   "codemirror_mode": {
    "name": "ipython",
    "version": 3
   },
   "file_extension": ".py",
   "mimetype": "text/x-python",
   "name": "python",
   "nbconvert_exporter": "python",
   "pygments_lexer": "ipython3",
   "version": "3.10.14"
  }
 },
 "nbformat": 4,
 "nbformat_minor": 2
}
